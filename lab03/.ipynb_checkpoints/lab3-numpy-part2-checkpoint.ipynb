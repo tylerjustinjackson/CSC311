{
 "cells": [
  {
   "cell_type": "markdown",
   "metadata": {},
   "source": [
    "# Lab 3\n",
    "\n",
    "# Introduction to NumPy\n",
    "\n",
    "In this lab, you'll be working through Chapter 2 to get an introduction to the numerical computing package for Python, NumPy. This notebook is made up of two sections.\n",
    "\n",
    "- Section 1: Work through the code samples in Chapter 2\n",
    "- Section 2: Exercises"
   ]
  },
  {
   "cell_type": "markdown",
   "metadata": {},
   "source": [
    "# Section 1: Code Practice\n",
    "\n",
    "In this section, you will be reading through the various chapter sections and typing out/running the code samples given in the sections. The purpose of this is for you to practice using Jupyter to run Python code as well as learn about the functionality available to you in both IPython and Jupyter.\n",
    "\n",
    "##### Executing code in Jupyter\n",
    "\n",
    "When typing and executing code in Jupyter, it is helpful to know the various keyboard shortcuts. You can find the full list of these by clicking **Help &rarr; Keyboard Shortcuts** in the menu. However, the two most useful keyboard shortcuts are:\n",
    "\n",
    "- `Shift-Enter`: Execute the current cell and advance to the next cell. This will create one if none exists, but if a cell exists below your current cell, a new cell will **not** be created.\n",
    "- `Alt-Enter`: Execute the current cell and **create** a new cell below.\n",
    "- `Control-Enter`: Execute the current cell without advancing to the next cell\n",
    "\n",
    "When writing your code, you will be using these two commands to make sure input/output (`In`/`Out`) is consistent with what is found in the chapter. If you create a cell by mistake, you can always go to **Edit &rarr; Delete Cells** to remove it.\n",
    "\n",
    "#### Purpose of Section 1\n",
    "\n",
    "Your purpose in this section is \n",
    "\n",
    "- **Type out** the code examples from the chapter (do not copy and paste)\n",
    "- **Run** them\n",
    "- **Check** to **make sure** you are getting the same results as what is contained in the chapter\n",
    "\n",
    "---\n",
    "\n",
    "\n"
   ]
  },
  {
   "cell_type": "markdown",
   "metadata": {},
   "source": [
    "## Computation on Arrays: Broadcasting\n",
    "\n",
    "[Chapter/Section link](https://nbviewer.jupyter.org/urls/bitbucket.org/dogwynn/pythondatasciencehandbook/raw/master/notebooks/02.05-Computation-on-arrays-broadcasting.ipynb)\n",
    "\n",
    "### Introducing Broadcasting"
   ]
  },
  {
   "cell_type": "code",
   "execution_count": null,
   "metadata": {
    "collapsed": true
   },
   "outputs": [],
   "source": []
  },
  {
   "cell_type": "code",
   "execution_count": null,
   "metadata": {
    "collapsed": true
   },
   "outputs": [],
   "source": []
  },
  {
   "cell_type": "code",
   "execution_count": null,
   "metadata": {
    "collapsed": true
   },
   "outputs": [],
   "source": []
  },
  {
   "cell_type": "code",
   "execution_count": null,
   "metadata": {
    "collapsed": true
   },
   "outputs": [],
   "source": []
  },
  {
   "cell_type": "code",
   "execution_count": null,
   "metadata": {
    "collapsed": true
   },
   "outputs": [],
   "source": []
  },
  {
   "cell_type": "code",
   "execution_count": null,
   "metadata": {
    "collapsed": true
   },
   "outputs": [],
   "source": []
  },
  {
   "cell_type": "code",
   "execution_count": null,
   "metadata": {
    "collapsed": true
   },
   "outputs": [],
   "source": []
  },
  {
   "cell_type": "markdown",
   "metadata": {},
   "source": [
    "### Rules of Broadcasting\n",
    "\n",
    "#### Broadcasting example 1"
   ]
  },
  {
   "cell_type": "code",
   "execution_count": null,
   "metadata": {
    "collapsed": true
   },
   "outputs": [],
   "source": []
  },
  {
   "cell_type": "code",
   "execution_count": null,
   "metadata": {
    "collapsed": true
   },
   "outputs": [],
   "source": []
  },
  {
   "cell_type": "markdown",
   "metadata": {},
   "source": [
    "#### Broadcasting example 2"
   ]
  },
  {
   "cell_type": "code",
   "execution_count": null,
   "metadata": {
    "collapsed": true
   },
   "outputs": [],
   "source": []
  },
  {
   "cell_type": "code",
   "execution_count": null,
   "metadata": {
    "collapsed": true
   },
   "outputs": [],
   "source": []
  },
  {
   "cell_type": "markdown",
   "metadata": {},
   "source": [
    "#### Broadcasting example 3"
   ]
  },
  {
   "cell_type": "code",
   "execution_count": null,
   "metadata": {
    "collapsed": true
   },
   "outputs": [],
   "source": []
  },
  {
   "cell_type": "code",
   "execution_count": null,
   "metadata": {
    "collapsed": true
   },
   "outputs": [],
   "source": []
  },
  {
   "cell_type": "code",
   "execution_count": null,
   "metadata": {
    "collapsed": true
   },
   "outputs": [],
   "source": []
  },
  {
   "cell_type": "code",
   "execution_count": null,
   "metadata": {
    "collapsed": true
   },
   "outputs": [],
   "source": []
  },
  {
   "cell_type": "code",
   "execution_count": null,
   "metadata": {
    "collapsed": true
   },
   "outputs": [],
   "source": []
  },
  {
   "cell_type": "markdown",
   "metadata": {},
   "source": [
    "### Broadcasting in Practice\n",
    "\n",
    "#### Centering an array"
   ]
  },
  {
   "cell_type": "code",
   "execution_count": null,
   "metadata": {
    "collapsed": true
   },
   "outputs": [],
   "source": []
  },
  {
   "cell_type": "code",
   "execution_count": null,
   "metadata": {
    "collapsed": true
   },
   "outputs": [],
   "source": []
  },
  {
   "cell_type": "code",
   "execution_count": null,
   "metadata": {
    "collapsed": true
   },
   "outputs": [],
   "source": []
  },
  {
   "cell_type": "code",
   "execution_count": null,
   "metadata": {
    "collapsed": true
   },
   "outputs": [],
   "source": []
  },
  {
   "cell_type": "markdown",
   "metadata": {},
   "source": [
    "#### Plotting a two-dimensional function"
   ]
  },
  {
   "cell_type": "code",
   "execution_count": null,
   "metadata": {
    "collapsed": true
   },
   "outputs": [],
   "source": []
  },
  {
   "cell_type": "code",
   "execution_count": null,
   "metadata": {
    "collapsed": true
   },
   "outputs": [],
   "source": []
  },
  {
   "cell_type": "code",
   "execution_count": null,
   "metadata": {
    "collapsed": true
   },
   "outputs": [],
   "source": []
  },
  {
   "cell_type": "markdown",
   "metadata": {},
   "source": [
    "## Comparisons, Masks, and Boolean Logic\n",
    "\n",
    "[Chapter/section link](https://nbviewer.jupyter.org/urls/bitbucket.org/dogwynn/pythondatasciencehandbook/raw/master/notebooks/02.06-Boolean-Arrays-and-Masks.ipynb)\n",
    "\n",
    "### Example: Counting Rainy Days"
   ]
  },
  {
   "cell_type": "code",
   "execution_count": 7,
   "metadata": {},
   "outputs": [],
   "source": [
    "import pandas as pd\n",
    "import numpy as np"
   ]
  },
  {
   "cell_type": "code",
   "execution_count": 8,
   "metadata": {},
   "outputs": [],
   "source": [
    "def array_from_file(filename, column):\n",
    "\n",
    "    data = pd.read_csv(filename)\n",
    "    return np.array(data[column])\n",
    "\n",
    "rainfall = array_from_file('Seattle2014.csv', 'PRCP')"
   ]
  },
  {
   "cell_type": "markdown",
   "metadata": {},
   "source": [
    "Start the next cell at `inches = rainfall / 254.0`"
   ]
  },
  {
   "cell_type": "code",
   "execution_count": 9,
   "metadata": {},
   "outputs": [],
   "source": [
    "rainfall_inches = rainfall / 25.4\n",
    "rainy_days = np.sum(rainfall_inches > 0.1)"
   ]
  },
  {
   "cell_type": "code",
   "execution_count": 10,
   "metadata": {},
   "outputs": [
    {
     "name": "stdout",
     "output_type": "stream",
     "text": [
      "Number of rainy days: 150\n"
     ]
    }
   ],
   "source": [
    "print(f\"Number of rainy days: {rainy_days}\")"
   ]
  },
  {
   "cell_type": "markdown",
   "metadata": {},
   "source": [
    "### Comparison Operators as UFuncs"
   ]
  },
  {
   "cell_type": "code",
   "execution_count": 11,
   "metadata": {},
   "outputs": [],
   "source": [
    "rainfall_inches = rainfall / 25.4"
   ]
  },
  {
   "cell_type": "code",
   "execution_count": 12,
   "metadata": {},
   "outputs": [],
   "source": [
    "rainy_days_bool = rainfall_inches > 0.1"
   ]
  },
  {
   "cell_type": "code",
   "execution_count": 13,
   "metadata": {},
   "outputs": [],
   "source": [
    "rainy_days = np.sum(rainy_days_bool)"
   ]
  },
  {
   "cell_type": "code",
   "execution_count": null,
   "metadata": {},
   "outputs": [],
   "source": []
  },
  {
   "cell_type": "code",
   "execution_count": 14,
   "metadata": {},
   "outputs": [],
   "source": [
    "tmax = array_from_file('Seattle2014.csv', 'TMAX')"
   ]
  },
  {
   "cell_type": "code",
   "execution_count": 15,
   "metadata": {},
   "outputs": [],
   "source": [
    "hotdaysbool = tmax > 100"
   ]
  },
  {
   "cell_type": "code",
   "execution_count": 16,
   "metadata": {},
   "outputs": [],
   "source": [
    "hotdays = np.sum(hotdaysbool)"
   ]
  },
  {
   "cell_type": "code",
   "execution_count": 17,
   "metadata": {},
   "outputs": [
    {
     "name": "stdout",
     "output_type": "stream",
     "text": [
      "Number of days with temperature above 100°F: 297\n"
     ]
    }
   ],
   "source": [
    "print(f\"Number of days with temperature above 100°F: {hotdays}\")"
   ]
  },
  {
   "cell_type": "markdown",
   "metadata": {},
   "source": [
    "### Working with Boolean Arrays"
   ]
  },
  {
   "cell_type": "code",
   "execution_count": 19,
   "metadata": {},
   "outputs": [],
   "source": [
    "tmaxf = tmax * 0.1 * 9/5 + 32\n",
    "rainydaysbool = rainfall > 0\n",
    "colddaysbool = tmaxf < 32\n",
    "rainyandcolddaysbool = rainydaysbool & colddaysbool\n",
    "rainyandcolddays = np.sum(rainyandcolddaysbool)"
   ]
  },
  {
   "cell_type": "code",
   "execution_count": 27,
   "metadata": {},
   "outputs": [
    {
     "name": "stdout",
     "output_type": "stream",
     "text": [
      "Number of days with rain and freezing temperatures: 0\n",
      "Dates with rain and freezing temperatures:\n",
      "<class 'pandas.core.series.Series'>\n",
      "Int64Index: 0 entries\n",
      "Series name: DATE\n",
      "Non-Null Count  Dtype\n",
      "--------------  -----\n",
      "0 non-null      int64\n",
      "dtypes: int64(1)\n",
      "memory usage: 0.0 bytes\n",
      "None\n"
     ]
    }
   ],
   "source": [
    "data = pd.read_csv('Seattle2014.csv')\n",
    "dates = data['DATE'][rainyandcolddaysbool]\n",
    "print(f\"Number of days with rain and freezing temperatures: {rainyandcolddays}\")\n",
    "print(\"Dates with rain and freezing temperatures:\")\n",
    "print(dates.info())"
   ]
  },
  {
   "cell_type": "markdown",
   "metadata": {},
   "source": [
    "#### Couting entries"
   ]
  },
  {
   "cell_type": "code",
   "execution_count": 28,
   "metadata": {},
   "outputs": [],
   "source": [
    "tmaxf = tmax * 0.1 * 9/5 + 32\n",
    "\n",
    "noprecipitationbool = rainfall == 0\n",
    "warmdaysbool = tmaxf > 75\n",
    "\n",
    "noprecipitationandwarmdaysbool = noprecipitationbool & warmdaysbool"
   ]
  },
  {
   "cell_type": "code",
   "execution_count": 29,
   "metadata": {},
   "outputs": [],
   "source": [
    "countnoprecipitationandwarmdays = np.sum(noprecipitationandwarmdaysbool)"
   ]
  },
  {
   "cell_type": "code",
   "execution_count": 30,
   "metadata": {},
   "outputs": [
    {
     "name": "stdout",
     "output_type": "stream",
     "text": [
      "Number of days with no precipitation and temperatures above 75°F: 74\n"
     ]
    }
   ],
   "source": [
    "print(f\"Number of days with no precipitation and temperatures above 75°F: {countnoprecipitationandwarmdays}\")"
   ]
  },
  {
   "cell_type": "markdown",
   "metadata": {},
   "source": [
    "### Aside: Using the Keywords `and`/`or` Versus the Operators `&`/`|`"
   ]
  },
  {
   "cell_type": "code",
   "execution_count": 31,
   "metadata": {},
   "outputs": [],
   "source": [
    "a = np.array([True, False, True, False])\n",
    "b = np.array([True, True, False, False])"
   ]
  },
  {
   "cell_type": "code",
   "execution_count": 35,
   "metadata": {},
   "outputs": [
    {
     "data": {
      "text/plain": [
       "array([ True, False, False, False])"
      ]
     },
     "execution_count": 35,
     "metadata": {},
     "output_type": "execute_result"
    }
   ],
   "source": [
    "a & b"
   ]
  },
  {
   "cell_type": "code",
   "execution_count": 36,
   "metadata": {},
   "outputs": [
    {
     "data": {
      "text/plain": [
       "array([ True,  True,  True, False])"
      ]
     },
     "execution_count": 36,
     "metadata": {},
     "output_type": "execute_result"
    }
   ],
   "source": [
    "a | b"
   ]
  },
  {
   "cell_type": "code",
   "execution_count": 33,
   "metadata": {},
   "outputs": [
    {
     "data": {
      "text/plain": [
       "array([ True, False, False, False])"
      ]
     },
     "execution_count": 33,
     "metadata": {},
     "output_type": "execute_result"
    }
   ],
   "source": [
    "np.logical_and(a, b)"
   ]
  },
  {
   "cell_type": "code",
   "execution_count": 34,
   "metadata": {},
   "outputs": [
    {
     "data": {
      "text/plain": [
       "array([ True,  True,  True, False])"
      ]
     },
     "execution_count": 34,
     "metadata": {},
     "output_type": "execute_result"
    }
   ],
   "source": [
    "np.logical_or(a, b)"
   ]
  },
  {
   "cell_type": "markdown",
   "metadata": {},
   "source": [
    "## Fancy Indexing\n",
    "\n",
    "[Chapter/section link](https://nbviewer.jupyter.org/urls/bitbucket.org/dogwynn/pythondatasciencehandbook/raw/master/notebooks/02.07-Fancy-Indexing.ipynb)\n",
    "\n",
    "### Exploring Fancy Indexing"
   ]
  },
  {
   "cell_type": "code",
   "execution_count": 37,
   "metadata": {},
   "outputs": [],
   "source": [
    "arr = np.array([10, 20, 30, 40, 50])"
   ]
  },
  {
   "cell_type": "code",
   "execution_count": 38,
   "metadata": {},
   "outputs": [],
   "source": [
    "indices = np.array([1, 3, 4])"
   ]
  },
  {
   "cell_type": "code",
   "execution_count": 39,
   "metadata": {},
   "outputs": [],
   "source": [
    "selectedelements = arr[indices]"
   ]
  },
  {
   "cell_type": "code",
   "execution_count": 40,
   "metadata": {},
   "outputs": [
    {
     "name": "stdout",
     "output_type": "stream",
     "text": [
      "[10 20 30 40 50]\n"
     ]
    }
   ],
   "source": [
    "print(arr)"
   ]
  },
  {
   "cell_type": "code",
   "execution_count": 41,
   "metadata": {},
   "outputs": [
    {
     "name": "stdout",
     "output_type": "stream",
     "text": [
      "[1 3 4]\n"
     ]
    }
   ],
   "source": [
    "print(indices)"
   ]
  },
  {
   "cell_type": "code",
   "execution_count": 43,
   "metadata": {},
   "outputs": [
    {
     "name": "stdout",
     "output_type": "stream",
     "text": [
      "[20 40 50]\n"
     ]
    }
   ],
   "source": [
    "print(selectedelements)"
   ]
  },
  {
   "cell_type": "markdown",
   "metadata": {},
   "source": [
    "### Combined Indexing"
   ]
  },
  {
   "cell_type": "code",
   "execution_count": 63,
   "metadata": {},
   "outputs": [],
   "source": [
    "arr = np.array([[10, 20, 30],\n",
    "                [40, 50, 60],\n",
    "                [70, 80, 90]])"
   ]
  },
  {
   "cell_type": "code",
   "execution_count": 64,
   "metadata": {},
   "outputs": [],
   "source": [
    "row_indices = np.array([0, 2])\n",
    "column_slice = slice(1, 3)"
   ]
  },
  {
   "cell_type": "code",
   "execution_count": 65,
   "metadata": {},
   "outputs": [],
   "source": [
    "selected_elements = arr[row_indices, column_slice]"
   ]
  },
  {
   "cell_type": "code",
   "execution_count": 66,
   "metadata": {},
   "outputs": [
    {
     "name": "stdout",
     "output_type": "stream",
     "text": [
      "[[10 20 30]\n",
      " [40 50 60]\n",
      " [70 80 90]]\n"
     ]
    }
   ],
   "source": [
    "print(arr)"
   ]
  },
  {
   "cell_type": "code",
   "execution_count": 67,
   "metadata": {},
   "outputs": [
    {
     "name": "stdout",
     "output_type": "stream",
     "text": [
      "[0 2]\n"
     ]
    }
   ],
   "source": [
    "print(row_indices)"
   ]
  },
  {
   "cell_type": "code",
   "execution_count": 68,
   "metadata": {},
   "outputs": [
    {
     "name": "stdout",
     "output_type": "stream",
     "text": [
      "slice(1, 3, None)\n"
     ]
    }
   ],
   "source": [
    "print(column_slice)"
   ]
  },
  {
   "cell_type": "code",
   "execution_count": 69,
   "metadata": {},
   "outputs": [
    {
     "name": "stdout",
     "output_type": "stream",
     "text": [
      "[[20 30]\n",
      " [80 90]]\n"
     ]
    }
   ],
   "source": [
    "print(selected_elements)"
   ]
  },
  {
   "cell_type": "markdown",
   "metadata": {},
   "source": [
    "### Example: Selecting Random Points"
   ]
  },
  {
   "cell_type": "code",
   "execution_count": 79,
   "metadata": {},
   "outputs": [],
   "source": [
    "arr = np.array([1, 2, 3, 4, 50, 6, 70, 80, 9, 100000])"
   ]
  },
  {
   "cell_type": "code",
   "execution_count": 80,
   "metadata": {},
   "outputs": [],
   "source": [
    "points = 5"
   ]
  },
  {
   "cell_type": "code",
   "execution_count": 81,
   "metadata": {},
   "outputs": [],
   "source": [
    "random_indices = np.random.choice(arr.size, size=points, replace=False)"
   ]
  },
  {
   "cell_type": "code",
   "execution_count": 82,
   "metadata": {},
   "outputs": [],
   "source": [
    "random_points = arr[random_indices]"
   ]
  },
  {
   "cell_type": "code",
   "execution_count": 83,
   "metadata": {},
   "outputs": [
    {
     "name": "stdout",
     "output_type": "stream",
     "text": [
      "[5 9 8 0 6]\n"
     ]
    }
   ],
   "source": [
    "print(random_indices)"
   ]
  },
  {
   "cell_type": "code",
   "execution_count": 84,
   "metadata": {},
   "outputs": [
    {
     "name": "stdout",
     "output_type": "stream",
     "text": [
      "[     6 100000      9      1     70]\n"
     ]
    }
   ],
   "source": [
    "print(random_points)"
   ]
  },
  {
   "cell_type": "markdown",
   "metadata": {},
   "source": [
    "### Modifying Values with Fancy Indexing"
   ]
  },
  {
   "cell_type": "code",
   "execution_count": 85,
   "metadata": {},
   "outputs": [],
   "source": [
    "indices = np.array([2, 5, 7])"
   ]
  },
  {
   "cell_type": "code",
   "execution_count": 86,
   "metadata": {},
   "outputs": [],
   "source": [
    "new_values = np.array([300, 600, 800])"
   ]
  },
  {
   "cell_type": "code",
   "execution_count": 87,
   "metadata": {},
   "outputs": [],
   "source": [
    "arr[indices] = new_values"
   ]
  },
  {
   "cell_type": "code",
   "execution_count": 88,
   "metadata": {},
   "outputs": [
    {
     "data": {
      "text/plain": [
       "array([     1,      2,    300,      4,     50,    600,     70,    800,\n",
       "            9, 100000])"
      ]
     },
     "execution_count": 88,
     "metadata": {},
     "output_type": "execute_result"
    }
   ],
   "source": [
    "arr"
   ]
  },
  {
   "cell_type": "markdown",
   "metadata": {},
   "source": [
    "### Example: Binning Data"
   ]
  },
  {
   "cell_type": "code",
   "execution_count": 90,
   "metadata": {},
   "outputs": [],
   "source": [
    "data = np.array([1.5, 2.2, 3.8, 4.1, 5.5, 6.2, 7.0])"
   ]
  },
  {
   "cell_type": "code",
   "execution_count": 91,
   "metadata": {},
   "outputs": [],
   "source": [
    "bins = np.array([1, 3, 5, 7])"
   ]
  },
  {
   "cell_type": "code",
   "execution_count": 92,
   "metadata": {},
   "outputs": [],
   "source": [
    "bin_indices = np.digitize(data, bins)"
   ]
  },
  {
   "cell_type": "code",
   "execution_count": 93,
   "metadata": {},
   "outputs": [
    {
     "data": {
      "text/plain": [
       "array([1, 3, 5, 7])"
      ]
     },
     "execution_count": 93,
     "metadata": {},
     "output_type": "execute_result"
    }
   ],
   "source": [
    "bins"
   ]
  },
  {
   "cell_type": "code",
   "execution_count": 94,
   "metadata": {},
   "outputs": [
    {
     "name": "stdout",
     "output_type": "stream",
     "text": [
      "point 1.5 goes into bin 1\n",
      "point 2.2 goes into bin 1\n",
      "point 3.8 goes into bin 2\n",
      "point 4.1 goes into bin 2\n",
      "point 5.5 goes into bin 3\n",
      "point 6.2 goes into bin 3\n",
      "point 7.0 goes into bin 4\n"
     ]
    }
   ],
   "source": [
    "for i, index in enumerate(bin_indices):\n",
    "    print(f\"point {data[i]} goes into bin {index}\")"
   ]
  },
  {
   "cell_type": "markdown",
   "metadata": {},
   "source": [
    "## Sorting Arrays\n",
    "\n",
    "[Chapter/section link](https://nbviewer.jupyter.org/urls/bitbucket.org/dogwynn/pythondatasciencehandbook/raw/master/notebooks/02.08-Sorting.ipynb)"
   ]
  },
  {
   "cell_type": "code",
   "execution_count": 102,
   "metadata": {},
   "outputs": [],
   "source": [
    "def bubblesort(arr: np.array) -> np.array:\n",
    "    n = len(arr)\n",
    "    for i in range(n):\n",
    "        swapped = False\n",
    "        for j in range(0, n - i - 1):\n",
    "            if arr[j] > arr[j + 1]:\n",
    "                arr[j], arr[j + 1] = arr[j + 1], arr[j]\n",
    "                swapped = True\n",
    "        if not swapped:\n",
    "            break\n",
    "    return arr"
   ]
  },
  {
   "cell_type": "code",
   "execution_count": 103,
   "metadata": {},
   "outputs": [],
   "source": [
    "np.random.seed(0)\n",
    "array = np.random.randint(0, 100000, size=10000)"
   ]
  },
  {
   "cell_type": "code",
   "execution_count": 104,
   "metadata": {},
   "outputs": [],
   "source": [
    "arraylist = array.tolist()"
   ]
  },
  {
   "cell_type": "code",
   "execution_count": 105,
   "metadata": {},
   "outputs": [
    {
     "data": {
      "text/plain": [
       "[68268,\n",
       " 43567,\n",
       " 42613,\n",
       " 45891,\n",
       " 21243,\n",
       " 95939,\n",
       " 97639,\n",
       " 41993,\n",
       " 86293,\n",
       " 55026,\n",
       " 80471,\n",
       " 80966,\n",
       " 48600,\n",
       " 39512,\n",
       " 52620,\n",
       " 80186,\n",
       " 17089,\n",
       " 32230,\n",
       " 18983,\n",
       " 89688,\n",
       " 82457,\n",
       " 93005,\n",
       " 6921,\n",
       " 38804,\n",
       " 67699,\n",
       " 70608,\n",
       " 37619,\n",
       " 7877,\n",
       " 83966,\n",
       " 1871,\n",
       " 73135,\n",
       " 2496,\n",
       " 47954,\n",
       " 24675,\n",
       " 31921,\n",
       " 99059,\n",
       " 797,\n",
       " 49811,\n",
       " 68755,\n",
       " 80782,\n",
       " 90535,\n",
       " 81857,\n",
       " 52489,\n",
       " 84665,\n",
       " 41504,\n",
       " 49866,\n",
       " 84212,\n",
       " 96766,\n",
       " 11723,\n",
       " 43890,\n",
       " 17591,\n",
       " 58146,\n",
       " 92288,\n",
       " 59300,\n",
       " 89141,\n",
       " 71557,\n",
       " 20006,\n",
       " 3560,\n",
       " 90868,\n",
       " 61713,\n",
       " 96591,\n",
       " 45444,\n",
       " 46522,\n",
       " 86904,\n",
       " 20737,\n",
       " 28647,\n",
       " 61353,\n",
       " 92217,\n",
       " 80163,\n",
       " 12134,\n",
       " 60535,\n",
       " 47883,\n",
       " 86107,\n",
       " 63360,\n",
       " 51811,\n",
       " 9781,\n",
       " 19340,\n",
       " 27257,\n",
       " 16298,\n",
       " 12372,\n",
       " 4420,\n",
       " 82991,\n",
       " 62079,\n",
       " 79860,\n",
       " 7012,\n",
       " 9396,\n",
       " 3918,\n",
       " 9359,\n",
       " 44259,\n",
       " 23482,\n",
       " 15127,\n",
       " 37237,\n",
       " 79701,\n",
       " 8752,\n",
       " 80041,\n",
       " 71331,\n",
       " 50624,\n",
       " 89183,\n",
       " 40133,\n",
       " 93790,\n",
       " 55153,\n",
       " 62756,\n",
       " 90928,\n",
       " 81757,\n",
       " 84355,\n",
       " 99938,\n",
       " 48682,\n",
       " 66509,\n",
       " 86384,\n",
       " 75751,\n",
       " 76693,\n",
       " 24777,\n",
       " 13824,\n",
       " 2418,\n",
       " 12843,\n",
       " 78778,\n",
       " 36223,\n",
       " 61570,\n",
       " 6521,\n",
       " 88162,\n",
       " 56894,\n",
       " 74659,\n",
       " 96990,\n",
       " 14254,\n",
       " 51939,\n",
       " 89236,\n",
       " 37073,\n",
       " 23310,\n",
       " 31785,\n",
       " 64570,\n",
       " 80577,\n",
       " 56356,\n",
       " 23306,\n",
       " 36950,\n",
       " 78696,\n",
       " 92171,\n",
       " 98611,\n",
       " 78928,\n",
       " 79904,\n",
       " 70838,\n",
       " 33920,\n",
       " 88870,\n",
       " 92648,\n",
       " 79128,\n",
       " 90749,\n",
       " 33538,\n",
       " 81411,\n",
       " 8286,\n",
       " 18728,\n",
       " 13640,\n",
       " 68627,\n",
       " 45663,\n",
       " 3912,\n",
       " 50586,\n",
       " 72130,\n",
       " 21752,\n",
       " 59715,\n",
       " 89068,\n",
       " 7997,\n",
       " 53006,\n",
       " 40800,\n",
       " 15620,\n",
       " 70381,\n",
       " 92299,\n",
       " 54268,\n",
       " 69069,\n",
       " 68473,\n",
       " 91757,\n",
       " 42512,\n",
       " 19608,\n",
       " 70557,\n",
       " 92309,\n",
       " 99438,\n",
       " 17340,\n",
       " 1913,\n",
       " 52086,\n",
       " 13429,\n",
       " 13907,\n",
       " 35489,\n",
       " 10088,\n",
       " 15588,\n",
       " 38395,\n",
       " 60155,\n",
       " 38214,\n",
       " 469,\n",
       " 43295,\n",
       " 74253,\n",
       " 34488,\n",
       " 38040,\n",
       " 16975,\n",
       " 15912,\n",
       " 28086,\n",
       " 82127,\n",
       " 15115,\n",
       " 79983,\n",
       " 52573,\n",
       " 94201,\n",
       " 64223,\n",
       " 11052,\n",
       " 15741,\n",
       " 57368,\n",
       " 94275,\n",
       " 43986,\n",
       " 5103,\n",
       " 35050,\n",
       " 1740,\n",
       " 55270,\n",
       " 12579,\n",
       " 71382,\n",
       " 47805,\n",
       " 20165,\n",
       " 2775,\n",
       " 84523,\n",
       " 30752,\n",
       " 89099,\n",
       " 79464,\n",
       " 71892,\n",
       " 33930,\n",
       " 46774,\n",
       " 28651,\n",
       " 62885,\n",
       " 15997,\n",
       " 65180,\n",
       " 98927,\n",
       " 97768,\n",
       " 74498,\n",
       " 63003,\n",
       " 85971,\n",
       " 34009,\n",
       " 43671,\n",
       " 69939,\n",
       " 17582,\n",
       " 29844,\n",
       " 84917,\n",
       " 38429,\n",
       " 81475,\n",
       " 76323,\n",
       " 82727,\n",
       " 60809,\n",
       " 2121,\n",
       " 45353,\n",
       " 89987,\n",
       " 3886,\n",
       " 41690,\n",
       " 87986,\n",
       " 80748,\n",
       " 75523,\n",
       " 82119,\n",
       " 99751,\n",
       " 5181,\n",
       " 43349,\n",
       " 76578,\n",
       " 42914,\n",
       " 70744,\n",
       " 71713,\n",
       " 63720,\n",
       " 70399,\n",
       " 47394,\n",
       " 73925,\n",
       " 894,\n",
       " 63413,\n",
       " 48208,\n",
       " 30142,\n",
       " 32904,\n",
       " 26813,\n",
       " 39041,\n",
       " 59601,\n",
       " 91504,\n",
       " 79224,\n",
       " 68955,\n",
       " 82088,\n",
       " 6004,\n",
       " 35620,\n",
       " 42521,\n",
       " 86339,\n",
       " 57191,\n",
       " 57852,\n",
       " 80675,\n",
       " 22302,\n",
       " 87069,\n",
       " 83697,\n",
       " 52513,\n",
       " 54545,\n",
       " 80212,\n",
       " 20989,\n",
       " 2562,\n",
       " 22597,\n",
       " 25484,\n",
       " 78709,\n",
       " 92925,\n",
       " 46402,\n",
       " 93807,\n",
       " 11605,\n",
       " 98727,\n",
       " 65483,\n",
       " 93846,\n",
       " 61073,\n",
       " 99271,\n",
       " 22571,\n",
       " 54355,\n",
       " 33201,\n",
       " 78633,\n",
       " 88157,\n",
       " 83349,\n",
       " 44889,\n",
       " 84466,\n",
       " 96736,\n",
       " 79835,\n",
       " 82249,\n",
       " 85532,\n",
       " 16363,\n",
       " 24785,\n",
       " 55913,\n",
       " 63418,\n",
       " 36736,\n",
       " 90070,\n",
       " 97855,\n",
       " 66576,\n",
       " 71786,\n",
       " 57508,\n",
       " 90718,\n",
       " 7704,\n",
       " 72308,\n",
       " 42179,\n",
       " 25907,\n",
       " 45192,\n",
       " 9144,\n",
       " 27741,\n",
       " 62551,\n",
       " 2195,\n",
       " 4680,\n",
       " 55751,\n",
       " 25687,\n",
       " 52237,\n",
       " 97594,\n",
       " 38008,\n",
       " 10100,\n",
       " 60343,\n",
       " 80704,\n",
       " 43723,\n",
       " 99036,\n",
       " 54180,\n",
       " 57625,\n",
       " 45856,\n",
       " 89514,\n",
       " 77582,\n",
       " 20950,\n",
       " 9500,\n",
       " 98258,\n",
       " 52548,\n",
       " 46614,\n",
       " 23418,\n",
       " 49747,\n",
       " 33415,\n",
       " 12232,\n",
       " 16957,\n",
       " 57600,\n",
       " 27784,\n",
       " 44239,\n",
       " 98229,\n",
       " 39335,\n",
       " 37212,\n",
       " 52141,\n",
       " 62746,\n",
       " 33354,\n",
       " 79668,\n",
       " 54254,\n",
       " 7601,\n",
       " 27867,\n",
       " 11059,\n",
       " 66275,\n",
       " 95081,\n",
       " 21266,\n",
       " 93557,\n",
       " 5410,\n",
       " 48691,\n",
       " 48798,\n",
       " 82357,\n",
       " 69434,\n",
       " 94123,\n",
       " 18231,\n",
       " 9724,\n",
       " 23314,\n",
       " 66477,\n",
       " 27479,\n",
       " 25025,\n",
       " 11590,\n",
       " 54762,\n",
       " 76853,\n",
       " 74544,\n",
       " 31838,\n",
       " 18491,\n",
       " 14672,\n",
       " 91802,\n",
       " 95868,\n",
       " 86179,\n",
       " 11834,\n",
       " 82865,\n",
       " 62570,\n",
       " 73929,\n",
       " 56620,\n",
       " 83725,\n",
       " 47993,\n",
       " 67398,\n",
       " 66439,\n",
       " 95952,\n",
       " 15352,\n",
       " 64022,\n",
       " 90616,\n",
       " 89935,\n",
       " 14297,\n",
       " 5896,\n",
       " 12003,\n",
       " 73478,\n",
       " 23761,\n",
       " 42439,\n",
       " 81858,\n",
       " 95804,\n",
       " 52280,\n",
       " 36589,\n",
       " 84631,\n",
       " 8472,\n",
       " 66564,\n",
       " 35428,\n",
       " 62444,\n",
       " 67889,\n",
       " 92503,\n",
       " 87582,\n",
       " 7734,\n",
       " 90265,\n",
       " 28436,\n",
       " 23905,\n",
       " 26981,\n",
       " 76473,\n",
       " 45463,\n",
       " 97691,\n",
       " 66589,\n",
       " 19361,\n",
       " 21875,\n",
       " 36661,\n",
       " 2679,\n",
       " 76723,\n",
       " 70486,\n",
       " 31222,\n",
       " 68201,\n",
       " 84977,\n",
       " 30857,\n",
       " 39606,\n",
       " 851,\n",
       " 5028,\n",
       " 20177,\n",
       " 89236,\n",
       " 39920,\n",
       " 90238,\n",
       " 55082,\n",
       " 74305,\n",
       " 22036,\n",
       " 99108,\n",
       " 38212,\n",
       " 82032,\n",
       " 34735,\n",
       " 82570,\n",
       " 1384,\n",
       " 79403,\n",
       " 65599,\n",
       " 69524,\n",
       " 51654,\n",
       " 62729,\n",
       " 52668,\n",
       " 19055,\n",
       " 46499,\n",
       " 91980,\n",
       " 87314,\n",
       " 36209,\n",
       " 8010,\n",
       " 59618,\n",
       " 79073,\n",
       " 51115,\n",
       " 71299,\n",
       " 19340,\n",
       " 72932,\n",
       " 53121,\n",
       " 14705,\n",
       " 56448,\n",
       " 86823,\n",
       " 25274,\n",
       " 82212,\n",
       " 31075,\n",
       " 53251,\n",
       " 70882,\n",
       " 23417,\n",
       " 96700,\n",
       " 13729,\n",
       " 23836,\n",
       " 56132,\n",
       " 69658,\n",
       " 66272,\n",
       " 26872,\n",
       " 83891,\n",
       " 11465,\n",
       " 79285,\n",
       " 99975,\n",
       " 33374,\n",
       " 18504,\n",
       " 45302,\n",
       " 58503,\n",
       " 15835,\n",
       " 7788,\n",
       " 52547,\n",
       " 24404,\n",
       " 26951,\n",
       " 90707,\n",
       " 38111,\n",
       " 67840,\n",
       " 11909,\n",
       " 99435,\n",
       " 97182,\n",
       " 14281,\n",
       " 18387,\n",
       " 60935,\n",
       " 60565,\n",
       " 89564,\n",
       " 13704,\n",
       " 50859,\n",
       " 9774,\n",
       " 73728,\n",
       " 73064,\n",
       " 98995,\n",
       " 93258,\n",
       " 18931,\n",
       " 92898,\n",
       " 68219,\n",
       " 24919,\n",
       " 80992,\n",
       " 72531,\n",
       " 28954,\n",
       " 71712,\n",
       " 93299,\n",
       " 39366,\n",
       " 5985,\n",
       " 37292,\n",
       " 99131,\n",
       " 75577,\n",
       " 55986,\n",
       " 10413,\n",
       " 30441,\n",
       " 68740,\n",
       " 60857,\n",
       " 93,\n",
       " 79249,\n",
       " 35235,\n",
       " 36546,\n",
       " 65940,\n",
       " 5037,\n",
       " 25785,\n",
       " 46031,\n",
       " 65911,\n",
       " 81572,\n",
       " 76478,\n",
       " 97796,\n",
       " 16881,\n",
       " 56818,\n",
       " 23757,\n",
       " 9630,\n",
       " 95597,\n",
       " 96087,\n",
       " 70051,\n",
       " 68826,\n",
       " 34330,\n",
       " 62838,\n",
       " 95254,\n",
       " 25036,\n",
       " 96975,\n",
       " 64866,\n",
       " 28250,\n",
       " 97254,\n",
       " 16080,\n",
       " 58812,\n",
       " 56111,\n",
       " 70272,\n",
       " 3466,\n",
       " 20427,\n",
       " 70238,\n",
       " 38406,\n",
       " 40621,\n",
       " 48373,\n",
       " 71070,\n",
       " 47273,\n",
       " 39078,\n",
       " 2987,\n",
       " 21074,\n",
       " 28039,\n",
       " 68828,\n",
       " 38569,\n",
       " 11100,\n",
       " 41294,\n",
       " 90853,\n",
       " 25819,\n",
       " 97526,\n",
       " 8292,\n",
       " 75997,\n",
       " 40444,\n",
       " 90286,\n",
       " 90717,\n",
       " 73330,\n",
       " 20129,\n",
       " 37644,\n",
       " 85728,\n",
       " 42729,\n",
       " 41808,\n",
       " 87496,\n",
       " 95219,\n",
       " 2173,\n",
       " 74890,\n",
       " 86640,\n",
       " 6874,\n",
       " 83099,\n",
       " 90808,\n",
       " 89208,\n",
       " 61761,\n",
       " 84416,\n",
       " 2757,\n",
       " 12120,\n",
       " 23842,\n",
       " 69583,\n",
       " 83971,\n",
       " 52462,\n",
       " 73381,\n",
       " 43864,\n",
       " 65094,\n",
       " 73364,\n",
       " 91014,\n",
       " 21107,\n",
       " 4930,\n",
       " 49756,\n",
       " 57308,\n",
       " 90981,\n",
       " 85371,\n",
       " 20165,\n",
       " 78957,\n",
       " 100,\n",
       " 53942,\n",
       " 74573,\n",
       " 6037,\n",
       " 54779,\n",
       " 25247,\n",
       " 52817,\n",
       " 24813,\n",
       " 48371,\n",
       " 47354,\n",
       " 96648,\n",
       " 56062,\n",
       " 81941,\n",
       " 22957,\n",
       " 38870,\n",
       " 90512,\n",
       " 29849,\n",
       " 68727,\n",
       " 42661,\n",
       " 40831,\n",
       " 39308,\n",
       " 3418,\n",
       " 74314,\n",
       " 31739,\n",
       " 54198,\n",
       " 41790,\n",
       " 96455,\n",
       " 85125,\n",
       " 21674,\n",
       " 71818,\n",
       " 1337,\n",
       " 36315,\n",
       " 13657,\n",
       " 82307,\n",
       " 5245,\n",
       " 27342,\n",
       " 3922,\n",
       " 1221,\n",
       " 46778,\n",
       " 1924,\n",
       " 56337,\n",
       " 8901,\n",
       " 41407,\n",
       " 49502,\n",
       " 74392,\n",
       " 20099,\n",
       " 94533,\n",
       " 74152,\n",
       " 37028,\n",
       " 3511,\n",
       " 76440,\n",
       " 66209,\n",
       " 34706,\n",
       " 45518,\n",
       " 25329,\n",
       " 72839,\n",
       " 29419,\n",
       " 97268,\n",
       " 43647,\n",
       " 31649,\n",
       " 54429,\n",
       " 93708,\n",
       " 61046,\n",
       " 42798,\n",
       " 60278,\n",
       " 28960,\n",
       " 40738,\n",
       " 71255,\n",
       " 27260,\n",
       " 94617,\n",
       " 27822,\n",
       " 10738,\n",
       " 32308,\n",
       " 12910,\n",
       " 38464,\n",
       " 3404,\n",
       " 61302,\n",
       " 10825,\n",
       " 37010,\n",
       " 50951,\n",
       " 35459,\n",
       " 27724,\n",
       " 71973,\n",
       " 12404,\n",
       " 42477,\n",
       " 75312,\n",
       " 39021,\n",
       " 10194,\n",
       " 75955,\n",
       " 43569,\n",
       " 44465,\n",
       " 85998,\n",
       " 8266,\n",
       " 97876,\n",
       " 88554,\n",
       " 38775,\n",
       " 69140,\n",
       " 68816,\n",
       " 5162,\n",
       " 38386,\n",
       " 34202,\n",
       " 36020,\n",
       " 6448,\n",
       " 47042,\n",
       " 26214,\n",
       " 25353,\n",
       " 7426,\n",
       " 11636,\n",
       " 95977,\n",
       " 90997,\n",
       " 612,\n",
       " 69722,\n",
       " 91204,\n",
       " 57961,\n",
       " 42506,\n",
       " 86028,\n",
       " 54888,\n",
       " 43233,\n",
       " 27045,\n",
       " 20647,\n",
       " 9120,\n",
       " 58746,\n",
       " 74650,\n",
       " 65635,\n",
       " 56537,\n",
       " 67890,\n",
       " 55060,\n",
       " 45790,\n",
       " 65180,\n",
       " 1608,\n",
       " 54546,\n",
       " 30105,\n",
       " 91032,\n",
       " 73255,\n",
       " 11498,\n",
       " 79483,\n",
       " 30360,\n",
       " 11922,\n",
       " 65219,\n",
       " 48851,\n",
       " 59693,\n",
       " 81920,\n",
       " 59530,\n",
       " 63366,\n",
       " 46947,\n",
       " 43449,\n",
       " 52115,\n",
       " 58530,\n",
       " 2098,\n",
       " 37734,\n",
       " 67604,\n",
       " 72363,\n",
       " 12918,\n",
       " 38372,\n",
       " 22893,\n",
       " 77929,\n",
       " 40642,\n",
       " 89740,\n",
       " 85110,\n",
       " 14881,\n",
       " 92311,\n",
       " 36741,\n",
       " 31782,\n",
       " 61185,\n",
       " 65802,\n",
       " 44038,\n",
       " 98173,\n",
       " 70918,\n",
       " 41574,\n",
       " 94118,\n",
       " 45387,\n",
       " 62834,\n",
       " 93566,\n",
       " 84338,\n",
       " 88754,\n",
       " 98099,\n",
       " 27906,\n",
       " 73036,\n",
       " 8819,\n",
       " 91080,\n",
       " 4485,\n",
       " 88692,\n",
       " 57525,\n",
       " 35051,\n",
       " 65323,\n",
       " 96847,\n",
       " 11326,\n",
       " 26956,\n",
       " 47663,\n",
       " 88652,\n",
       " 95893,\n",
       " 49272,\n",
       " 79634,\n",
       " 47449,\n",
       " 90637,\n",
       " 36444,\n",
       " 53484,\n",
       " 75881,\n",
       " 11477,\n",
       " 44550,\n",
       " 85552,\n",
       " 26152,\n",
       " 72862,\n",
       " 7557,\n",
       " 77285,\n",
       " 44069,\n",
       " 97851,\n",
       " 81521,\n",
       " 12383,\n",
       " 47456,\n",
       " 35312,\n",
       " 47312,\n",
       " 71968,\n",
       " 32830,\n",
       " 27018,\n",
       " 59788,\n",
       " 30301,\n",
       " 81728,\n",
       " 95645,\n",
       " 67559,\n",
       " 73878,\n",
       " 18821,\n",
       " 35620,\n",
       " 29267,\n",
       " 49279,\n",
       " 99812,\n",
       " 15708,\n",
       " 44785,\n",
       " 91219,\n",
       " 34790,\n",
       " 25735,\n",
       " 85172,\n",
       " 592,\n",
       " 88477,\n",
       " 82944,\n",
       " 20183,\n",
       " 96975,\n",
       " 65354,\n",
       " 65276,\n",
       " 37437,\n",
       " 11408,\n",
       " 10096,\n",
       " 42441,\n",
       " 32884,\n",
       " 58085,\n",
       " 40703,\n",
       " 99128,\n",
       " 62782,\n",
       " 88624,\n",
       " 21649,\n",
       " 59253,\n",
       " 36361,\n",
       " 45548,\n",
       " 54462,\n",
       " 26703,\n",
       " 56526,\n",
       " 24993,\n",
       " 59268,\n",
       " 27536,\n",
       " 35044,\n",
       " 67399,\n",
       " 56638,\n",
       " 65371,\n",
       " 73735,\n",
       " 39421,\n",
       " 41750,\n",
       " 34658,\n",
       " 92318,\n",
       " 59126,\n",
       " 99920,\n",
       " 58523,\n",
       " 15919,\n",
       " 53743,\n",
       " 33394,\n",
       " 14859,\n",
       " 55255,\n",
       " 77799,\n",
       " 25374,\n",
       " 67674,\n",
       " 31010,\n",
       " 92726,\n",
       " 91985,\n",
       " 23203,\n",
       " 39789,\n",
       " 12912,\n",
       " 37285,\n",
       " 29764,\n",
       " 74165,\n",
       " 27661,\n",
       " 55397,\n",
       " 29459,\n",
       " 44296,\n",
       " 7008,\n",
       " 18129,\n",
       " 29893,\n",
       " 27004,\n",
       " 73828,\n",
       " 66945,\n",
       " 99069,\n",
       " 87197,\n",
       " 70533,\n",
       " 24528,\n",
       " 53478,\n",
       " 45560,\n",
       " 71592,\n",
       " 68246,\n",
       " 85022,\n",
       " 14591,\n",
       " 23059,\n",
       " 42756,\n",
       " 72554,\n",
       " 84554,\n",
       " 32891,\n",
       " 31958,\n",
       " 39228,\n",
       " 60133,\n",
       " 95482,\n",
       " 18013,\n",
       " 29353,\n",
       " 71208,\n",
       " 59580,\n",
       " 9425,\n",
       " 29363,\n",
       " 34088,\n",
       " 9694,\n",
       " 40542,\n",
       " 44709,\n",
       " 53630,\n",
       " 97552,\n",
       " 7011,\n",
       " 56487,\n",
       " 40605,\n",
       " 57852,\n",
       " 19521,\n",
       " 16151,\n",
       " 34176,\n",
       " 99415,\n",
       " 21871,\n",
       " 92607,\n",
       " 27034,\n",
       " 53977,\n",
       " 79193,\n",
       " 47320,\n",
       " 50679,\n",
       " 59855,\n",
       " 91237,\n",
       " 83241,\n",
       " 59281,\n",
       " 36720,\n",
       " 83054,\n",
       " 52677,\n",
       " 2963,\n",
       " 88815,\n",
       " 46870,\n",
       " 60781,\n",
       " 40843,\n",
       " 15265,\n",
       " 24455,\n",
       " 26743,\n",
       " 69914,\n",
       " ...]"
      ]
     },
     "execution_count": 105,
     "metadata": {},
     "output_type": "execute_result"
    }
   ],
   "source": [
    "arraylist"
   ]
  },
  {
   "cell_type": "code",
   "execution_count": 106,
   "metadata": {},
   "outputs": [],
   "source": [
    "sorted_array_list = bubblesort(arraylist)\n",
    "sorted_array = np.array(sorted_array_list)"
   ]
  },
  {
   "cell_type": "code",
   "execution_count": 108,
   "metadata": {},
   "outputs": [
    {
     "data": {
      "text/plain": [
       "array([   10,    13,    21, ..., 99965, 99975, 99980])"
      ]
     },
     "execution_count": 108,
     "metadata": {},
     "output_type": "execute_result"
    }
   ],
   "source": [
    "sorted_array"
   ]
  },
  {
   "cell_type": "markdown",
   "metadata": {},
   "source": [
    "### Fast Sorting in NumPy: `np.sort` and `np.argsort`"
   ]
  },
  {
   "cell_type": "code",
   "execution_count": 109,
   "metadata": {},
   "outputs": [
    {
     "data": {
      "text/plain": [
       "array([   10,    13,    21, ..., 99965, 99975, 99980])"
      ]
     },
     "execution_count": 109,
     "metadata": {},
     "output_type": "execute_result"
    }
   ],
   "source": [
    "np.sort(array)"
   ]
  },
  {
   "cell_type": "code",
   "execution_count": 110,
   "metadata": {},
   "outputs": [
    {
     "data": {
      "text/plain": [
       "array([3601, 5385, 8897, ..., 9718,  501, 5468])"
      ]
     },
     "execution_count": 110,
     "metadata": {},
     "output_type": "execute_result"
    }
   ],
   "source": [
    "np.argsort(array)"
   ]
  },
  {
   "cell_type": "markdown",
   "metadata": {},
   "source": [
    "#### Sorting along rows or columns"
   ]
  },
  {
   "cell_type": "code",
   "execution_count": 117,
   "metadata": {},
   "outputs": [],
   "source": [
    "array = np.array([[9, 3, 1],\n",
    "                     [4, 2, 7],\n",
    "                     [8, 6, 5]])"
   ]
  },
  {
   "cell_type": "code",
   "execution_count": 118,
   "metadata": {},
   "outputs": [
    {
     "name": "stdout",
     "output_type": "stream",
     "text": [
      "[[9 3 1]\n",
      " [4 2 7]\n",
      " [8 6 5]]\n"
     ]
    }
   ],
   "source": [
    "print(array)"
   ]
  },
  {
   "cell_type": "code",
   "execution_count": 119,
   "metadata": {},
   "outputs": [],
   "source": [
    "rows = np.sort(array, axis=1)"
   ]
  },
  {
   "cell_type": "code",
   "execution_count": 120,
   "metadata": {},
   "outputs": [
    {
     "name": "stdout",
     "output_type": "stream",
     "text": [
      "[[1 3 9]\n",
      " [2 4 7]\n",
      " [5 6 8]]\n"
     ]
    }
   ],
   "source": [
    "print(rows)"
   ]
  },
  {
   "cell_type": "code",
   "execution_count": 121,
   "metadata": {},
   "outputs": [],
   "source": [
    "columns = np.sort(array, axis=0)"
   ]
  },
  {
   "cell_type": "code",
   "execution_count": 122,
   "metadata": {},
   "outputs": [
    {
     "name": "stdout",
     "output_type": "stream",
     "text": [
      "[[4 2 1]\n",
      " [8 3 5]\n",
      " [9 6 7]]\n"
     ]
    }
   ],
   "source": [
    "print(columns)"
   ]
  },
  {
   "cell_type": "markdown",
   "metadata": {},
   "source": [
    "### Partial Sorts: Partitioning"
   ]
  },
  {
   "cell_type": "code",
   "execution_count": 141,
   "metadata": {},
   "outputs": [],
   "source": [
    "array = np.random.randint(0, 100, size=20)\n",
    "k = 3"
   ]
  },
  {
   "cell_type": "code",
   "execution_count": 142,
   "metadata": {},
   "outputs": [],
   "source": [
    "partitionedarr = np.partition(array, k)"
   ]
  },
  {
   "cell_type": "code",
   "execution_count": 143,
   "metadata": {},
   "outputs": [
    {
     "data": {
      "text/plain": [
       "array([3, 6, 7])"
      ]
     },
     "execution_count": 143,
     "metadata": {},
     "output_type": "execute_result"
    }
   ],
   "source": [
    "np.sort(partitionedarr[:k])"
   ]
  },
  {
   "cell_type": "code",
   "execution_count": 144,
   "metadata": {},
   "outputs": [],
   "source": [
    "smallest_elements = np.sort(partitionedarr[:k])"
   ]
  },
  {
   "cell_type": "code",
   "execution_count": 145,
   "metadata": {},
   "outputs": [
    {
     "data": {
      "text/plain": [
       "array([3, 6, 7])"
      ]
     },
     "execution_count": 145,
     "metadata": {},
     "output_type": "execute_result"
    }
   ],
   "source": [
    "smallest_elements"
   ]
  },
  {
   "cell_type": "markdown",
   "metadata": {},
   "source": [
    "### Example: k-Nearest Neighbors"
   ]
  },
  {
   "cell_type": "code",
   "execution_count": 146,
   "metadata": {},
   "outputs": [],
   "source": [
    "from sklearn.datasets import load_iris\n",
    "from sklearn.model_selection import train_test_split\n",
    "from sklearn.neighbors import KNeighborsClassifier\n",
    "from sklearn.metrics import accuracy_score"
   ]
  },
  {
   "cell_type": "code",
   "execution_count": 147,
   "metadata": {},
   "outputs": [],
   "source": [
    "iris = load_iris()\n",
    "X = iris.data  \n",
    "y = iris.target  "
   ]
  },
  {
   "cell_type": "code",
   "execution_count": 148,
   "metadata": {},
   "outputs": [],
   "source": [
    "Xtrain, Xtest, ytrain, ytest = train_test_split(X, y, test_size=0.3, random_state=0)"
   ]
  },
  {
   "cell_type": "code",
   "execution_count": 149,
   "metadata": {},
   "outputs": [],
   "source": [
    "k = 3"
   ]
  },
  {
   "cell_type": "code",
   "execution_count": 150,
   "metadata": {},
   "outputs": [],
   "source": [
    "knn = KNeighborsClassifier(n_neighbors=k)"
   ]
  },
  {
   "cell_type": "code",
   "execution_count": 151,
   "metadata": {},
   "outputs": [
    {
     "data": {
      "text/plain": [
       "KNeighborsClassifier(n_neighbors=3)"
      ]
     },
     "execution_count": 151,
     "metadata": {},
     "output_type": "execute_result"
    }
   ],
   "source": [
    "knn.fit(Xtrain, ytrain)"
   ]
  },
  {
   "cell_type": "code",
   "execution_count": 152,
   "metadata": {},
   "outputs": [],
   "source": [
    "ypred = knn.predict(Xtest)"
   ]
  },
  {
   "cell_type": "code",
   "execution_count": 153,
   "metadata": {},
   "outputs": [],
   "source": [
    "accuracy = accuracy_score(ytest, ypred)"
   ]
  },
  {
   "cell_type": "code",
   "execution_count": 154,
   "metadata": {},
   "outputs": [
    {
     "name": "stdout",
     "output_type": "stream",
     "text": [
      "Predicted labels for the test set: [2 1 0 2 0 2 0 1 1 1 2 1 1 1 1 0 1 1 0 0 2 1 0 0 2 0 0 1 1 0 2 1 0 2 2 1 0\n",
      " 2 1 1 2 0 2 0 0]\n"
     ]
    }
   ],
   "source": [
    "print(f\"Predicted labels for the test set: {ypred}\")"
   ]
  },
  {
   "cell_type": "code",
   "execution_count": 155,
   "metadata": {},
   "outputs": [
    {
     "name": "stdout",
     "output_type": "stream",
     "text": [
      "True labels for the test set: [2 1 0 2 0 2 0 1 1 1 2 1 1 1 1 0 1 1 0 0 2 1 0 0 2 0 0 1 1 0 2 1 0 2 2 1 0\n",
      " 1 1 1 2 0 2 0 0]\n"
     ]
    }
   ],
   "source": [
    "print(f\"True labels for the test set: {ytest}\")"
   ]
  },
  {
   "cell_type": "code",
   "execution_count": 156,
   "metadata": {},
   "outputs": [
    {
     "name": "stdout",
     "output_type": "stream",
     "text": [
      "Accuracy of the k-NN classifier with k=3: 0.98\n"
     ]
    }
   ],
   "source": [
    "print(f\"Accuracy of the k-NN classifier with k={k}: {accuracy:.2f}\")"
   ]
  },
  {
   "cell_type": "markdown",
   "metadata": {},
   "source": [
    "## Structured Data: NumPy's Structured Arrays\n",
    "\n",
    "[Chapter/section link](https://nbviewer.jupyter.org/urls/bitbucket.org/dogwynn/pythondatasciencehandbook/raw/master/notebooks/02.09-Structured-Data-NumPy.ipynb)"
   ]
  },
  {
   "cell_type": "code",
   "execution_count": 157,
   "metadata": {},
   "outputs": [],
   "source": [
    "dtype = [('name', 'U10'), ('age', 'i4'), ('height', 'f4')]"
   ]
  },
  {
   "cell_type": "code",
   "execution_count": 158,
   "metadata": {},
   "outputs": [],
   "source": [
    "data = [('Alice', 30, 5.5), ('Bob', 25, 5.8), ('Charlie', 35, 5.9)]"
   ]
  },
  {
   "cell_type": "code",
   "execution_count": 159,
   "metadata": {},
   "outputs": [],
   "source": [
    "structured_array = np.array(data, dtype=dtype)"
   ]
  },
  {
   "cell_type": "code",
   "execution_count": 160,
   "metadata": {},
   "outputs": [
    {
     "data": {
      "text/plain": [
       "array([('Alice', 30, 5.5), ('Bob', 25, 5.8), ('Charlie', 35, 5.9)],\n",
       "      dtype=[('name', '<U10'), ('age', '<i4'), ('height', '<f4')])"
      ]
     },
     "execution_count": 160,
     "metadata": {},
     "output_type": "execute_result"
    }
   ],
   "source": [
    "structured_array"
   ]
  },
  {
   "cell_type": "code",
   "execution_count": null,
   "metadata": {},
   "outputs": [],
   "source": [
    "\"\"\"https://numpy.org/doc/stable/user/basics.rec.html\n",
    "was used for this part, they have example lists int heir documentation\n",
    "that I used for this part\"\"\""
   ]
  },
  {
   "cell_type": "markdown",
   "metadata": {},
   "source": [
    "### More Advanced Compound Types"
   ]
  },
  {
   "cell_type": "code",
   "execution_count": 171,
   "metadata": {},
   "outputs": [],
   "source": [
    "nested_dtype = [('score', 'f4'), ('subject', 'U10')]\n",
    "compound_dtype = [('name', 'U10'), \n",
    "                  ('age', 'i4'), \n",
    "                  ('grades', nested_dtype), \n",
    "                  ('hobbies', 'O')] "
   ]
  },
  {
   "cell_type": "code",
   "execution_count": 172,
   "metadata": {},
   "outputs": [],
   "source": [
    "compound_dtype = [('name', 'U10'), \n",
    "                  ('age', 'i4'), \n",
    "                  ('grades', nested_dtype), \n",
    "                  ('hobbies', 'O')] "
   ]
  },
  {
   "cell_type": "code",
   "execution_count": 173,
   "metadata": {},
   "outputs": [],
   "source": [
    "data = [\n",
    "    ('Alice', 30, [('Math', 95.0), ('English', 88.5)], ['Reading', 'Swimming']),\n",
    "    ('Bob', 25, [('Math', 78.0), ('English', 82.0)], ['Cycling', 'Hiking']),\n",
    "    ('Charlie', 35, [('Math', 89.0), ('English', 92.0)], ['Photography', 'Traveling'])\n",
    "]"
   ]
  },
  {
   "cell_type": "code",
   "execution_count": 175,
   "metadata": {},
   "outputs": [],
   "source": [
    "advanced_structured_array = np.empty(len(data), dtype=compound_dtype)"
   ]
  },
  {
   "cell_type": "code",
   "execution_count": 176,
   "metadata": {},
   "outputs": [
    {
     "name": "stdout",
     "output_type": "stream",
     "text": [
      "[('', 0, (0., ''), None) ('', 0, (0., ''), None) ('', 0, (0., ''), None)]\n"
     ]
    }
   ],
   "source": [
    "print(advanced_structured_array)"
   ]
  },
  {
   "cell_type": "markdown",
   "metadata": {},
   "source": [
    "### RecordArrays: Structured Arrays with a Twist"
   ]
  },
  {
   "cell_type": "code",
   "execution_count": 181,
   "metadata": {},
   "outputs": [],
   "source": [
    "grades_dtype = [('subject', 'U10'), ('score', 'f4')]"
   ]
  },
  {
   "cell_type": "code",
   "execution_count": 189,
   "metadata": {},
   "outputs": [],
   "source": [
    "student_dtype = [('name', 'U10'), \n",
    "                 ('age', 'i4'), \n",
    "                 ('grades', grades_dtype), \n",
    "                 ('enrolled', 'b')]"
   ]
  },
  {
   "cell_type": "code",
   "execution_count": 190,
   "metadata": {},
   "outputs": [],
   "source": [
    "data = [\n",
    "    ('Alice', 30, [('Math', 95.0), ('English', 88.5)], True),\n",
    "    ('Bob', 25, [('Math', 78.0), ('English', 82.0)], False),\n",
    "    ('Charlie', 35, [('Math', 89.0), ('English', 92.0)], True)\n",
    "]"
   ]
  },
  {
   "cell_type": "code",
   "execution_count": 191,
   "metadata": {},
   "outputs": [],
   "source": [
    "structured_array = np.empty(3, dtype=student_dtype)\n"
   ]
  },
  {
   "cell_type": "code",
   "execution_count": 192,
   "metadata": {},
   "outputs": [
    {
     "data": {
      "text/plain": [
       "array([('', 0, ('', 0.), 0), ('', 0, ('', 0.), 0), ('', 0, ('', 0.), 0)],\n",
       "      dtype=[('name', '<U10'), ('age', '<i4'), ('grades', [('subject', '<U10'), ('score', '<f4')]), ('enrolled', 'i1')])"
      ]
     },
     "execution_count": 192,
     "metadata": {},
     "output_type": "execute_result"
    }
   ],
   "source": [
    "structured_array"
   ]
  },
  {
   "cell_type": "code",
   "execution_count": null,
   "metadata": {},
   "outputs": [],
   "source": [
    "\"\"\"https://numpy.org/doc/stable/user/basics.rec.html\n",
    "was used for this part, they have example lists int heir documentation\n",
    "that I used for this part\"\"\""
   ]
  },
  {
   "cell_type": "markdown",
   "metadata": {},
   "source": [
    "---\n",
    "\n",
    "# Section 2: Exercises\n",
    "\n",
    "In this section, you will be provided a few exercises to demonstrate your understanding of the chapter contents. Each exercise will have a Markdown section describing the problem, and you will provide cells below the description with code, comments and visual demonstrations of your solution."
   ]
  },
  {
   "cell_type": "markdown",
   "metadata": {},
   "source": [
    "---\n",
    "\n",
    "### Problem 1\n",
    "\n",
    "Make sure you have the `array_from_url` function defined:\n",
    "\n",
    "```python\n",
    "def array_from_url(url, column):\n",
    "    import pandas as pd\n",
    "    import numpy as np\n",
    "    data = pd.read_csv(url)\n",
    "    return np.array(data[column])\n",
    "```\n",
    "\n",
    "Using the `array_from_url` function, load the following two data sets into memory using the variable names provided:\n",
    "\n",
    "- variable: `areas`\n",
    "    - URL: `\"https://raw.githubusercontent.com/jakevdp/data-USstates/master/state-areas.csv\"`\n",
    "    - column: `\"area (sq. mi)\"`\n",
    "- variable: `populations`\n",
    "    - URL: `\"https://raw.githubusercontent.com/jakevdp/PythonDataScienceHandbook/master/notebooks/data/state-population.csv\"`\n",
    "    - column: `\"population\"`\n",
    "\n",
    "Compute a new variable: `pop_density` containing the population density of each of the states (plus D.C. and Puerto Rico). Population density is defined as the population divided by the area.\n",
    "\n",
    "Use this NumPy array to answer the following questions.\n",
    "\n",
    "- Which state has the highest population density and what is it?\n",
    "- Which territory has the highest population density and what is it?\n",
    "- What is the mean population density of just the United States in 2012?\n",
    "- What is the mean population density of the United States and territories in 2012?"
   ]
  },
  {
   "cell_type": "code",
   "execution_count": 227,
   "metadata": {},
   "outputs": [],
   "source": [
    "url = \"https://raw.githubusercontent.com/jakevdp/data-USstates/master/state-areas.csv\"\n",
    "df_area = pd.read_csv(url)"
   ]
  },
  {
   "cell_type": "code",
   "execution_count": 228,
   "metadata": {},
   "outputs": [],
   "source": [
    "state_abbreviations = {\n",
    "    'Alabama': 'AL', 'Alaska': 'AK', 'Arizona': 'AZ', 'Arkansas': 'AR', 'California': 'CA',\n",
    "    'Colorado': 'CO', 'Connecticut': 'CT', 'Delaware': 'DE', 'Florida': 'FL', 'Georgia': 'GA',\n",
    "    'Hawaii': 'HI', 'Idaho': 'ID', 'Illinois': 'IL', 'Indiana': 'IN', 'Iowa': 'IA', 'Kansas': 'KS',\n",
    "    'Kentucky': 'KY', 'Louisiana': 'LA', 'Maine': 'ME', 'Maryland': 'MD', 'Massachusetts': 'MA',\n",
    "    'Michigan': 'MI', 'Minnesota': 'MN', 'Mississippi': 'MS', 'Missouri': 'MO', 'Montana': 'MT',\n",
    "    'Nebraska': 'NE', 'Nevada': 'NV', 'New Hampshire': 'NH', 'New Jersey': 'NJ', 'New Mexico': 'NM',\n",
    "    'New York': 'NY', 'North Carolina': 'NC', 'North Dakota': 'ND', 'Ohio': 'OH', 'Oklahoma': 'OK',\n",
    "    'Oregon': 'OR', 'Pennsylvania': 'PA', 'Rhode Island': 'RI', 'South Carolina': 'SC', \n",
    "    'South Dakota': 'SD', 'Tennessee': 'TN', 'Texas': 'TX', 'Utah': 'UT', 'Vermont': 'VT', \n",
    "    'Virginia': 'VA', 'Washington': 'WA', 'West Virginia': 'WV', 'Wisconsin': 'WI', 'Wyoming': 'WY',\n",
    "    'District of Columbia': 'DC', 'Puerto Rico': 'PR'\n",
    "}"
   ]
  },
  {
   "cell_type": "code",
   "execution_count": 229,
   "metadata": {},
   "outputs": [],
   "source": [
    "df_area['state'] = df_area['state'].map(state_abbreviations)"
   ]
  },
  {
   "cell_type": "code",
   "execution_count": 230,
   "metadata": {},
   "outputs": [
    {
     "name": "stdout",
     "output_type": "stream",
     "text": [
      "   state  area (sq. mi)\n",
      "0     AL          52423\n",
      "1     AK         656425\n",
      "2     AZ         114006\n",
      "3     AR          53182\n",
      "4     CA         163707\n",
      "5     CO         104100\n",
      "6     CT           5544\n",
      "7     DE           1954\n",
      "8     FL          65758\n",
      "9     GA          59441\n",
      "10    HI          10932\n",
      "11    ID          83574\n",
      "12    IL          57918\n",
      "13    IN          36420\n",
      "14    IA          56276\n",
      "15    KS          82282\n",
      "16    KY          40411\n",
      "17    LA          51843\n",
      "18    ME          35387\n",
      "19    MD          12407\n",
      "20    MA          10555\n",
      "21    MI          96810\n",
      "22    MN          86943\n",
      "23    MS          48434\n",
      "24    MO          69709\n",
      "25    MT         147046\n",
      "26    NE          77358\n",
      "27    NV         110567\n",
      "28    NH           9351\n",
      "29    NJ           8722\n",
      "30    NM         121593\n",
      "31    NY          54475\n",
      "32    NC          53821\n",
      "33    ND          70704\n",
      "34    OH          44828\n",
      "35    OK          69903\n",
      "36    OR          98386\n",
      "37    PA          46058\n",
      "38    RI           1545\n",
      "39    SC          32007\n",
      "40    SD          77121\n",
      "41    TN          42146\n",
      "42    TX         268601\n",
      "43    UT          84904\n",
      "44    VT           9615\n",
      "45    VA          42769\n",
      "46    WA          71303\n",
      "47    WV          24231\n",
      "48    WI          65503\n",
      "49    WY          97818\n",
      "50    DC             68\n",
      "51    PR           3515\n"
     ]
    }
   ],
   "source": [
    "print(df_area)"
   ]
  },
  {
   "cell_type": "code",
   "execution_count": 231,
   "metadata": {},
   "outputs": [],
   "source": [
    "url = \"https://raw.githubusercontent.com/jakevdp/PythonDataScienceHandbook/master/notebooks/data/state-population.csv\"\n",
    "df_population = pd.read_csv(url)"
   ]
  },
  {
   "cell_type": "code",
   "execution_count": 232,
   "metadata": {},
   "outputs": [],
   "source": [
    "df_population = df[(df['ages'] == 'total') & (df['year'] == 2012)]"
   ]
  },
  {
   "cell_type": "code",
   "execution_count": 233,
   "metadata": {},
   "outputs": [
    {
     "name": "stdout",
     "output_type": "stream",
     "text": [
      "     state/region   ages  year   population\n",
      "1              AL  total  2012    4817528.0\n",
      "95             AK  total  2012     730307.0\n",
      "97             AZ  total  2012    6551149.0\n",
      "191            AR  total  2012    2949828.0\n",
      "193            CA  total  2012   37999878.0\n",
      "287            CO  total  2012    5189458.0\n",
      "289            CT  total  2012    3591765.0\n",
      "383            DE  total  2012     917053.0\n",
      "385            DC  total  2012     633427.0\n",
      "479            FL  total  2012   19320749.0\n",
      "480            GA  total  2012    9915646.0\n",
      "575            HI  total  2012    1390090.0\n",
      "576            ID  total  2012    1595590.0\n",
      "671            IL  total  2012   12868192.0\n",
      "672            IN  total  2012    6537782.0\n",
      "767            IA  total  2012    3075039.0\n",
      "768            KS  total  2012    2885398.0\n",
      "863            KY  total  2012    4379730.0\n",
      "864            LA  total  2012    4602134.0\n",
      "959            ME  total  2012    1328501.0\n",
      "960            MD  total  2012    5884868.0\n",
      "1055           MA  total  2012    6645303.0\n",
      "1056           MI  total  2012    9882519.0\n",
      "1151           MN  total  2012    5379646.0\n",
      "1152           MS  total  2012    2986450.0\n",
      "1247           MO  total  2012    6024522.0\n",
      "1248           MT  total  2012    1005494.0\n",
      "1343           NE  total  2012    1855350.0\n",
      "1344           NV  total  2012    2754354.0\n",
      "1439           NH  total  2012    1321617.0\n",
      "1440           NJ  total  2012    8867749.0\n",
      "1535           NM  total  2012    2083540.0\n",
      "1536           NY  total  2012   19576125.0\n",
      "1631           NC  total  2012    9748364.0\n",
      "1632           ND  total  2012     701345.0\n",
      "1727           OH  total  2012   11553031.0\n",
      "1728           OK  total  2012    3815780.0\n",
      "1823           OR  total  2012    3899801.0\n",
      "1824           PA  total  2012   12764475.0\n",
      "1919           RI  total  2012    1050304.0\n",
      "1920           SC  total  2012    4723417.0\n",
      "2015           SD  total  2012     834047.0\n",
      "2016           TN  total  2012    6454914.0\n",
      "2111           TX  total  2012   26060796.0\n",
      "2112           UT  total  2012    2854871.0\n",
      "2207           VT  total  2012     625953.0\n",
      "2208           VA  total  2012    8186628.0\n",
      "2303           WA  total  2012    6895318.0\n",
      "2304           WV  total  2012    1856680.0\n",
      "2399           WI  total  2012    5724554.0\n",
      "2400           WY  total  2012     576626.0\n",
      "2495           PR  total  2012    3651545.0\n",
      "2543          USA  total  2012  313873685.0\n"
     ]
    }
   ],
   "source": [
    "print(df_population)"
   ]
  },
  {
   "cell_type": "code",
   "execution_count": 234,
   "metadata": {},
   "outputs": [],
   "source": [
    "df_area.columns = ['state', 'area_sq_mi']\n",
    "df_population_2012 = df_population[(df_population['ages'] == 'total') & (df_population['year'] == 2012)]\n",
    "df_merged = pd.merge(df_population_2012, df_area, left_on='state/region', right_on='state')\n",
    "df_merged['population_density'] = df_merged['population'] / df_merged['area_sq_mi']"
   ]
  },
  {
   "cell_type": "code",
   "execution_count": 235,
   "metadata": {},
   "outputs": [],
   "source": [
    "state_max_density = df_merged[df_merged['state/region'] != 'PR']\n",
    "max_density_state = state_max_density.loc[state_max_density['population_density'].idxmax()]"
   ]
  },
  {
   "cell_type": "code",
   "execution_count": 236,
   "metadata": {},
   "outputs": [],
   "source": [
    "territory_max_density = df_merged[df_merged['state/region'] == 'PR']\n",
    "max_density_territory = territory_max_density.loc[territory_max_density['population_density'].idxmax()]"
   ]
  },
  {
   "cell_type": "code",
   "execution_count": 237,
   "metadata": {},
   "outputs": [],
   "source": [
    "pop_density = df_merged[df_merged['state/region'] != 'PR']['population_density'].mean()"
   ]
  },
  {
   "cell_type": "code",
   "execution_count": 240,
   "metadata": {},
   "outputs": [],
   "source": [
    "total_population_density = df_merged['population_density'].mean()"
   ]
  },
  {
   "cell_type": "code",
   "execution_count": 241,
   "metadata": {},
   "outputs": [
    {
     "name": "stdout",
     "output_type": "stream",
     "text": [
      "highest population density: DC with density 9315.10 people per square mile\n"
     ]
    }
   ],
   "source": [
    "print(f\"highest population density: {max_density_state['state/region']} with density {max_density_state['population_density']:.2f} people per square mile\")"
   ]
  },
  {
   "cell_type": "code",
   "execution_count": 242,
   "metadata": {},
   "outputs": [
    {
     "name": "stdout",
     "output_type": "stream",
     "text": [
      "highest population density: PR with density 1038.85 people per square mile\n"
     ]
    }
   ],
   "source": [
    "print(f\"highest population density: {max_density_territory['state/region']} with density {max_density_territory['population_density']:.2f} people per square mile\")"
   ]
  },
  {
   "cell_type": "code",
   "execution_count": 243,
   "metadata": {},
   "outputs": [
    {
     "name": "stdout",
     "output_type": "stream",
     "text": [
      "mean population density in 2012: 347.54 people per square mile\n"
     ]
    }
   ],
   "source": [
    "print(f\"mean population density in 2012: {pop_density:.2f} people per square mile\")"
   ]
  },
  {
   "cell_type": "code",
   "execution_count": 244,
   "metadata": {},
   "outputs": [
    {
     "name": "stdout",
     "output_type": "stream",
     "text": [
      "Mean population density and territories in 2012: 360.84 people per square mile\n"
     ]
    }
   ],
   "source": [
    "print(f\"Mean population density and territories in 2012: {total_population_density:.2f} people per square mile\")"
   ]
  },
  {
   "cell_type": "markdown",
   "metadata": {},
   "source": [
    "---\n",
    "\n",
    "### Problem 2\n",
    "\n",
    "Using the `array_from_url` function, load the following two data sets into memory using the variable names provided:\n",
    "\n",
    "- variable: `titanid`\n",
    "    - URL: `\"https://raw.githubusercontent.com/datasciencedojo/datasets/master/titanic.csv\"`\n",
    "    - column: `\"age\"`\n",
    "\n",
    "\n",
    "\n",
    "Answer the following questions:\n",
    "\n",
    "- What are the minimum, maximum, and mean ages of the following types of passengers on the Titanic?\n",
    "    - All passengers\n",
    "    - Survivors \n",
    "    - Those that died\n",
    "- What are the percentage of male passengers that died?\n",
    "- What are the percentage of female passengers that died?\n"
   ]
  },
  {
   "cell_type": "code",
   "execution_count": null,
   "metadata": {
    "collapsed": true
   },
   "outputs": [],
   "source": []
  },
  {
   "cell_type": "markdown",
   "metadata": {},
   "source": [
    "---\n",
    "\n",
    "### Problem 3\n",
    "\n",
    "Define the following function:\n",
    "\n",
    "```python\n",
    "def titanic_structured():\n",
    "    import pandas as pd, numpy as np\n",
    "    data = pd.read_csv(\"https://raw.githubusercontent.com/datasciencedojo/datasets/master/titanic.csv\")\n",
    "    cols = ['survived', 'pclass', 'sex', 'age', 'fare']\n",
    "    sarray = np.zeros(len(data), dtype={'names':cols,'formats':('i4','i4','U10','f8','f8')})\n",
    "    sarray['survived'] = data.Survived\n",
    "    sarray['pclass'] = data.Pclass\n",
    "    sarray['sex'] = data.Sex\n",
    "    sarray['age'] = data.Age\n",
    "    sarray['fare'] = data.Fare\n",
    "    return sarray\n",
    "```\n",
    "\n",
    "Assign the output of this function to a new variable `titanic_new`, and answer the following questions:\n",
    "\n",
    "- What is the average age of men that survived?\n",
    "- What is the average age of women that survived?\n",
    "- What is the [mode](https://www.mathsisfun.com/definitions/mode.html) of the class of survivors?\n",
    "- What is the mode of the class of those that died?\n",
    "   "
   ]
  },
  {
   "cell_type": "code",
   "execution_count": null,
   "metadata": {
    "collapsed": true
   },
   "outputs": [],
   "source": []
  }
 ],
 "metadata": {
  "kernelspec": {
   "display_name": "Python 3 (ipykernel)",
   "language": "python",
   "name": "python3"
  },
  "language_info": {
   "codemirror_mode": {
    "name": "ipython",
    "version": 3
   },
   "file_extension": ".py",
   "mimetype": "text/x-python",
   "name": "python",
   "nbconvert_exporter": "python",
   "pygments_lexer": "ipython3",
   "version": "3.9.12"
  }
 },
 "nbformat": 4,
 "nbformat_minor": 2
}
